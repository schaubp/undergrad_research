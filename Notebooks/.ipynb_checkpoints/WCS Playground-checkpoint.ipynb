{
 "cells": [
  {
   "cell_type": "code",
   "execution_count": 100,
   "metadata": {
    "collapsed": false
   },
   "outputs": [
    {
     "name": "stdout",
     "output_type": "stream",
     "text": [
      "Populating the interactive namespace from numpy and matplotlib\n"
     ]
    },
    {
     "name": "stderr",
     "output_type": "stream",
     "text": [
      "WARNING: pylab import has clobbered these variables: ['Polygon']\n",
      "`%matplotlib` prevents importing * from pylab and numpy\n"
     ]
    }
   ],
   "source": [
    "# Make external packages available\n",
    "from numpy import *\n",
    "import matplotlib\n",
    "from matplotlib import pyplot as plt\n",
    "%pylab inline\n",
    "import sys\n",
    "import os\n",
    "from astropy.io import ascii\n",
    "from astropy.io import fits\n",
    "from astropy import wcs\n",
    "from astropy.wcs import WCS\n",
    "from astropy import units as u\n",
    "from astropy.coordinates import SkyCoord\n",
    "from PIL import Image\n",
    "import aplpy\n",
    "from astropy.coordinates import SkyCoord, FK4, FK5, Galactic\n",
    "import Polygon"
   ]
  },
  {
   "cell_type": "code",
   "execution_count": 99,
   "metadata": {
    "collapsed": false
   },
   "outputs": [
    {
     "name": "stdout",
     "output_type": "stream",
     "text": [
      "2\n",
      "(687L, 579L)\n",
      "test\n"
     ]
    }
   ],
   "source": [
    "hdulist = fits.open('M81HIM0.fits')\n",
    "primary_hdu = hdulist[0]\n",
    "hdr = primary_hdu.header\n",
    "w = WCS(hdr, naxis=[1,2])\n",
    "\n",
    "M81_HI = primary_hdu.data[0,:,:]\n",
    "\n",
    "print w.naxis\n",
    "print M81_HI.shape"
   ]
  },
  {
   "cell_type": "code",
   "execution_count": 15,
   "metadata": {
    "collapsed": false
   },
   "outputs": [
    {
     "name": "stdout",
     "output_type": "stream",
     "text": [
      "(array(148.59788158622612), array(69.11966652819584))\n",
      "val at ra: 148.597881586 , dec: 69.1196665282 is 50.9443\n"
     ]
    }
   ],
   "source": [
    "#0 indexing for sure\n",
    "w_ra, w_dec = w.all_pix2world(245., 245., 0)\n",
    "print(w_ra, w_dec)\n",
    "print \"val at ra:\", w_ra, \", dec:\", w_dec, \"is\", M81_HI[245, 245]"
   ]
  },
  {
   "cell_type": "code",
   "execution_count": 16,
   "metadata": {
    "collapsed": false
   },
   "outputs": [],
   "source": [
    "imax = len(M81_HI[1,:])/1\n",
    "jmax = len(M81_HI[:,1])/1\n",
    "for i in range(imax):\n",
    "    for j in range(jmax):\n",
    "        w_ra, w_dec = w.all_pix2world(i, j, 0)\n",
    "        #print(w_ra, w_dec, w_freq)\n",
    "        #print \"val at ra:\", w_ra, \", dec:\", w_dec, \"is\", M81_HI[i, j]"
   ]
  },
  {
   "cell_type": "code",
   "execution_count": 17,
   "metadata": {
    "collapsed": false
   },
   "outputs": [
    {
     "name": "stdout",
     "output_type": "stream",
     "text": [
      "1193319\n"
     ]
    }
   ],
   "source": [
    "pixra = list()\n",
    "pixdec = list()\n",
    "pixdata = list()\n",
    "pixlist = list()\n",
    "radecindex = 0\n",
    "imax = len(M81_HI[1,:])/1\n",
    "jmax = len(M81_HI[:,1])/1\n",
    "for i in range(imax):\n",
    "    for j in range(jmax):\n",
    "        w_ra, w_dec = w.all_pix2world(i, j, 0)\n",
    "        val = M81_HI[j, i]\n",
    "        pixra.append(w_ra)\n",
    "        pixdec.append(w_dec)\n",
    "        pixdata.append(val)\n",
    "        radecindex = radecindex+1\n",
    "        \n",
    "        pixlist.append([float(w_ra), float(w_dec), val])\n",
    "        \n",
    "        #plot(x=\"w_ra\", y=\"w_dec\", data={w_ra} fmt='k.')#, color=val)\n",
    "\n",
    "print size(pixlist)"
   ]
  },
  {
   "cell_type": "code",
   "execution_count": 18,
   "metadata": {
    "collapsed": false
   },
   "outputs": [
    {
     "data": {
      "text/plain": [
       "(397773L,)"
      ]
     },
     "execution_count": 18,
     "metadata": {},
     "output_type": "execute_result"
    }
   ],
   "source": [
    "ra_t = array(pixra)\n",
    "dec_t = array(pixdec)\n",
    "data_t = array(pixdata)\n",
    "list_t = array(pixlist)\n",
    "\n",
    "ra_t.shape\n",
    "#help(array)"
   ]
  },
  {
   "cell_type": "code",
   "execution_count": 19,
   "metadata": {
    "collapsed": false
   },
   "outputs": [
    {
     "name": "stdout",
     "output_type": "stream",
     "text": [
      "150.406963715\n",
      "68.4144526319\n",
      "0.0\n",
      "[150.40812747959254, 68.42277515231015, 0.0]\n",
      "[150.40851560558545, 68.42554932191055, 0.0]\n",
      "[150.4089038339509, 68.42832348958389, 0.0]\n"
     ]
    }
   ],
   "source": [
    "print pixlist[0][0]\n",
    "print pixlist[0][1]\n",
    "print pixlist[0][2]\n",
    "print pixlist[3]\n",
    "print pixlist[4]\n",
    "print pixlist[5]"
   ]
  },
  {
   "cell_type": "code",
   "execution_count": 20,
   "metadata": {
    "collapsed": false,
    "scrolled": false
   },
   "outputs": [
    {
     "data": {
      "text/plain": [
       "<matplotlib.text.Text at 0x16e6beb8>"
      ]
     },
     "execution_count": 20,
     "metadata": {},
     "output_type": "execute_result"
    },
    {
     "data": {
      "image/png": "[encoded data removed]",
      "text/plain": [
       "<matplotlib.figure.Figure at 0xcb09a58>"
      ]
     },
     "metadata": {},
     "output_type": "display_data"
    }
   ],
   "source": [
    "plt.scatter(x=pixra, y=pixdec, c=pixdata, marker='o', edgecolors='none', cmap=matplotlib.cm.Blues)\n",
    "axis([max(pixra),min(pixra),min(pixdec),max(pixdec)])\n",
    "xlabel('ra')\n",
    "ylabel('dec')\n",
    "plt.title('test')"
   ]
  },
  {
   "cell_type": "code",
   "execution_count": 21,
   "metadata": {
    "collapsed": false
   },
   "outputs": [],
   "source": [
    "scoords = SkyCoord(ra=pixra, dec=pixdec, unit=(u.deg, u.deg), frame='fk4')"
   ]
  },
  {
   "cell_type": "code",
   "execution_count": 22,
   "metadata": {
    "collapsed": false
   },
   "outputs": [],
   "source": [
    "sc2000 = scoords.transform_to('icrs')"
   ]
  },
  {
   "cell_type": "code",
   "execution_count": 23,
   "metadata": {
    "collapsed": false
   },
   "outputs": [
    {
     "name": "stdout",
     "output_type": "stream",
     "text": [
      "150.406963715\n",
      "151.387616525\n",
      "150.614519678\n",
      "151.618162444\n"
     ]
    }
   ],
   "source": [
    "print pixra[0]\n",
    "print sc2000.ra.deg[0]\n",
    "\n",
    "print pixra[500]\n",
    "print sc2000.ra.deg[500]"
   ]
  },
  {
   "cell_type": "code",
   "execution_count": 24,
   "metadata": {
    "collapsed": false
   },
   "outputs": [
    {
     "data": {
      "text/plain": [
       "<matplotlib.text.Text at 0x3198e9e8>"
      ]
     },
     "execution_count": 24,
     "metadata": {},
     "output_type": "execute_result"
    },
    {
     "data": {
      "image/png": "[encoded data removed]",
      "text/plain": [
       "<matplotlib.figure.Figure at 0x4112c88>"
      ]
     },
     "metadata": {},
     "output_type": "display_data"
    }
   ],
   "source": [
    "plt.scatter(x=sc2000.ra.deg, y=sc2000.dec.deg, c=pixdata, marker='o', edgecolors='none', cmap=matplotlib.cm.Blues)\n",
    "axis([max(sc2000.ra.deg),min(sc2000.ra.deg),min(sc2000.dec.deg),max(sc2000.dec.deg)])\n",
    "xlabel('ra')\n",
    "ylabel('dec')\n",
    "plt.title('test')"
   ]
  },
  {
   "cell_type": "code",
   "execution_count": 101,
   "metadata": {
    "collapsed": false
   },
   "outputs": [
    {
     "name": "stdout",
     "output_type": "stream",
     "text": [
      "Help on package Polygon:\n",
      "\n",
      "NAME\n",
      "    Polygon - # -*- coding: utf-8 -*-\n",
      "\n",
      "FILE\n",
      "    c:\\users\\parker\\anaconda\\lib\\site-packages\\polygon\\__init__.py\n",
      "\n",
      "PACKAGE CONTENTS\n",
      "    IO\n",
      "    Shapes\n",
      "    Utils\n",
      "    cPolygon\n",
      "\n",
      "CLASSES\n",
      "    __builtin__.object\n",
      "        cPolygon.Polygon\n",
      "    exceptions.Exception(exceptions.BaseException)\n",
      "        cPolygon.Error\n",
      "    \n",
      "    class Error(exceptions.Exception)\n",
      "     |  Method resolution order:\n",
      "     |      Error\n",
      "     |      exceptions.Exception\n",
      "     |      exceptions.BaseException\n",
      "     |      __builtin__.object\n",
      "     |  \n",
      "     |  Data descriptors defined here:\n",
      "     |  \n",
      "     |  __weakref__\n",
      "     |      list of weak references to the object (if defined)\n",
      "     |  \n",
      "     |  ----------------------------------------------------------------------\n",
      "     |  Methods inherited from exceptions.Exception:\n",
      "     |  \n",
      "     |  __init__(...)\n",
      "     |      x.__init__(...) initializes x; see help(type(x)) for signature\n",
      "     |  \n",
      "     |  ----------------------------------------------------------------------\n",
      "     |  Data and other attributes inherited from exceptions.Exception:\n",
      "     |  \n",
      "     |  __new__ = <built-in method __new__ of type object>\n",
      "     |      T.__new__(S, ...) -> a new object with type S, a subtype of T\n",
      "     |  \n",
      "     |  ----------------------------------------------------------------------\n",
      "     |  Methods inherited from exceptions.BaseException:\n",
      "     |  \n",
      "     |  __delattr__(...)\n",
      "     |      x.__delattr__('name') <==> del x.name\n",
      "     |  \n",
      "     |  __getattribute__(...)\n",
      "     |      x.__getattribute__('name') <==> x.name\n",
      "     |  \n",
      "     |  __getitem__(...)\n",
      "     |      x.__getitem__(y) <==> x[y]\n",
      "     |  \n",
      "     |  __getslice__(...)\n",
      "     |      x.__getslice__(i, j) <==> x[i:j]\n",
      "     |      \n",
      "     |      Use of negative indices is not supported.\n",
      "     |  \n",
      "     |  __reduce__(...)\n",
      "     |  \n",
      "     |  __repr__(...)\n",
      "     |      x.__repr__() <==> repr(x)\n",
      "     |  \n",
      "     |  __setattr__(...)\n",
      "     |      x.__setattr__('name', value) <==> x.name = value\n",
      "     |  \n",
      "     |  __setstate__(...)\n",
      "     |  \n",
      "     |  __str__(...)\n",
      "     |      x.__str__() <==> str(x)\n",
      "     |  \n",
      "     |  __unicode__(...)\n",
      "     |  \n",
      "     |  ----------------------------------------------------------------------\n",
      "     |  Data descriptors inherited from exceptions.BaseException:\n",
      "     |  \n",
      "     |  __dict__\n",
      "     |  \n",
      "     |  args\n",
      "     |  \n",
      "     |  message\n",
      "    \n",
      "    class Polygon(__builtin__.object)\n",
      "     |  Polygon - a type to represent a polygon. In this module a polygon is a \n",
      "     |  collection of contours, each contour may be normal or a hole inside \n",
      "     |  other contours. \n",
      "     |  \n",
      "     |  The initialisation arguments may be:\n",
      "     |  - another Polygon instance which will be cloned, or\n",
      "     |  - a string or file object which will be read, or\n",
      "     |  - a sequence of points which will be used as the first contour.\n",
      "     |  A point is a sequence of two floats.\n",
      "     |  \n",
      "     |  Operations on polygons:\n",
      "     |  :p & q:\n",
      "     |      intersection: a polygon with the area that is covered by both p and q\n",
      "     |  :p | q:\n",
      "     |      union: a polygon containing the area that is covered by p or q or both\n",
      "     |  :p - q:\n",
      "     |      difference: a polygon with the area of p that is not covered by q\n",
      "     |  :p + q:\n",
      "     |      sum: same as union\n",
      "     |  :p ^ q:\n",
      "     |      xor: a polygon with the area that is covered by exactly one of p and q\n",
      "     |  :len(p):\n",
      "     |      number of contours\n",
      "     |  :p[i]:\n",
      "     |      contour with index i, the same as p.contour(i), slicing is not yet \n",
      "     |      supported\n",
      "     |  :bool(p):\n",
      "     |      logical value is true, if there are any contours in p (contours may be \n",
      "     |      empty!)\n",
      "     |  \n",
      "     |  Methods defined here:\n",
      "     |  \n",
      "     |  __add__(...)\n",
      "     |      x.__add__(y) <==> x+y\n",
      "     |  \n",
      "     |  __and__(...)\n",
      "     |      x.__and__(y) <==> x&y\n",
      "     |  \n",
      "     |  __getitem__(...)\n",
      "     |      x.__getitem__(y) <==> x[y]\n",
      "     |  \n",
      "     |  __init__(...)\n",
      "     |      x.__init__(...) initializes x; see help(type(x)) for signature\n",
      "     |  \n",
      "     |  __len__(...)\n",
      "     |      x.__len__() <==> len(x)\n",
      "     |  \n",
      "     |  __nonzero__(...)\n",
      "     |      x.__nonzero__() <==> x != 0\n",
      "     |  \n",
      "     |  __or__(...)\n",
      "     |      x.__or__(y) <==> x|y\n",
      "     |  \n",
      "     |  __radd__(...)\n",
      "     |      x.__radd__(y) <==> y+x\n",
      "     |  \n",
      "     |  __rand__(...)\n",
      "     |      x.__rand__(y) <==> y&x\n",
      "     |  \n",
      "     |  __repr__(...)\n",
      "     |      x.__repr__() <==> repr(x)\n",
      "     |  \n",
      "     |  __ror__(...)\n",
      "     |      x.__ror__(y) <==> y|x\n",
      "     |  \n",
      "     |  __rsub__(...)\n",
      "     |      x.__rsub__(y) <==> y-x\n",
      "     |  \n",
      "     |  __rxor__(...)\n",
      "     |      x.__rxor__(y) <==> y^x\n",
      "     |  \n",
      "     |  __sub__(...)\n",
      "     |      x.__sub__(y) <==> x-y\n",
      "     |  \n",
      "     |  __xor__(...)\n",
      "     |      x.__xor__(y) <==> x^y\n",
      "     |  \n",
      "     |  addContour(...)\n",
      "     |      addContour(c |, hole=0)\n",
      "     |      Add a contour (outline or hole).\n",
      "     |      :Arguments:\n",
      "     |          - c: pointlist (sequence of 2-tuples)\n",
      "     |          - optional hole: bool\n",
      "     |      :Returns:\n",
      "     |          None\n",
      "     |  \n",
      "     |  area(...)\n",
      "     |      area(|i)\n",
      "     |      Calculates the area of one contour (when called with index) or of the whole \n",
      "     |      polygon. All values are positive! The polygon area is the sum of areas of all \n",
      "     |      solid contours minus the sum of all areas of holes.\n",
      "     |      :Arguments:\n",
      "     |          - optional i: integer\n",
      "     |      :Returns:\n",
      "     |          a float\n",
      "     |  \n",
      "     |  aspectRatio(...)\n",
      "     |      aspectRatio(|i)\n",
      "     |      Returns the aspect ratio (ymax-ymin) / (xmax-xmin) of the bounding box of one \n",
      "     |      contour (when called with index) or of the whole polygon.\n",
      "     |      :Arguments:\n",
      "     |          - optional i: integer\n",
      "     |      :Returns:\n",
      "     |          float\n",
      "     |  \n",
      "     |  boundingBox(...)\n",
      "     |      boundingBox(|i)\n",
      "     |      Calculates the bounding box of one contour (when called with index i) or of the\n",
      "     |      whole polygon. In the latter case the data is cached and used for following \n",
      "     |      calls and internal calculations. The data will be recalculated automatically \n",
      "     |      when this method is called after the polygon has changed.\n",
      "     |      :Arguments:\n",
      "     |          - optional i: integer\n",
      "     |      :Returns:\n",
      "     |          tuple of four floats: xmin, xmax, ymin and ymax\n",
      "     |  \n",
      "     |  center(...)\n",
      "     |      center(|i)\n",
      "     |      Calculates the center of gravity of one contour (when called with index i) or \n",
      "     |      of the whole Polygon. The center may  be outside the contours or inside holes.\n",
      "     |      This is not the center of the bounding box!\n",
      "     |      :Arguments:\n",
      "     |          - optional i: integer\n",
      "     |      :Returns:\n",
      "     |          a 2-tuple of float (x, y)\n",
      "     |  \n",
      "     |  cloneContour(...)\n",
      "     |      cloneContour(i |, xs, ys)\n",
      "     |      Clones the contour i, returns index of clone, optionally shifts clone by xs \n",
      "     |      and ys.\n",
      "     |      :Arguments:\n",
      "     |          - i: integer\n",
      "     |          - optional xs: float\n",
      "     |          - optional ys: float\n",
      "     |      :Returns:\n",
      "     |          integer\n",
      "     |  \n",
      "     |  contour(...)\n",
      "     |      contour(i)\n",
      "     |      gives the contour with index i (the same as p[i])\n",
      "     |      :Arguments:\n",
      "     |          - i: integer\n",
      "     |      :Returns:\n",
      "     |          a contour\n",
      "     |  \n",
      "     |  covers(...)\n",
      "     |      covers(p)\n",
      "     |      Tests if the polygon completely covers the other polygon p. At first the \n",
      "     |      bounding boxes are tested for obvious cases and then an optional clipping is \n",
      "     |      performed.\n",
      "     |      :Arguments:\n",
      "     |          - p: Polygon\n",
      "     |      :Returns:\n",
      "     |          bool\n",
      "     |  \n",
      "     |  flip(...)\n",
      "     |      flip(|x)\n",
      "     |      Flips polygon in x direction. If a value for x is not given, the center of the \n",
      "     |      bounding box is used.\n",
      "     |      :Arguments:\n",
      "     |          - optional x: float\n",
      "     |      :Returns:\n",
      "     |          None\n",
      "     |  \n",
      "     |  flop(...)\n",
      "     |      flop(|y)\n",
      "     |      Flips polygon in y direction. If a value for y is not given, the center of the \n",
      "     |      bounding box is used.\n",
      "     |      :Arguments:\n",
      "     |          - optional y: float\n",
      "     |      :Returns:\n",
      "     |          None\n",
      "     |  \n",
      "     |  isHole(...)\n",
      "     |      isHole(|i)\n",
      "     |      Returns the hole flag of a single contour (when called with index argument) or \n",
      "     |      a list  of all flags when called without arguments.\n",
      "     |      :Arguments:\n",
      "     |          - optional i: integer\n",
      "     |      :Returns:\n",
      "     |          bool or list of bools\n",
      "     |  \n",
      "     |  isInside(...)\n",
      "     |      isInside(x, y |, i)\n",
      "     |      Point containment test: returns logical containment value for a single \n",
      "     |      contour (when called with index) or of the whole Polygon. If point is exactly \n",
      "     |      on the border, the value may be True or False, sorry!\n",
      "     |      :Arguments:\n",
      "     |          - x: float\n",
      "     |          - y: float\n",
      "     |          - optional i: integer\n",
      "     |      :Returns:\n",
      "     |          bool\n",
      "     |  \n",
      "     |  isSolid(...)\n",
      "     |      isSolid(|i)\n",
      "     |      Returns the inverted hole flag of a single contour (when called with index \n",
      "     |      argument) or a list  of all flags when called without arguments.\n",
      "     |      :Arguments:\n",
      "     |          - optional i: integer\n",
      "     |      :Returns:\n",
      "     |          bool or list of bools\n",
      "     |  \n",
      "     |  nPoints(...)\n",
      "     |      nPoints(|i)\n",
      "     |      Returns the number of points of one contour or of the whole polygon. Is much \n",
      "     |      faster than len(p[i]) or reduce(add, map(len, p))!\n",
      "     |      :Arguments:\n",
      "     |          - optional i: integer\n",
      "     |      :Returns:\n",
      "     |          integer\n",
      "     |  \n",
      "     |  orientation(...)\n",
      "     |      orientation(|i)\n",
      "     |      Calculates the orientation of one contour (when called with index) or of all \n",
      "     |      contours. There's no default orientation, holes are defined by the hole flag, \n",
      "     |      not by the orientation!\n",
      "     |      :Arguments:\n",
      "     |          - optional i: integer\n",
      "     |      :Returns:\n",
      "     |          single integer or list of integers: 1 for ccw,  -1 for cw, 0 for invalid \n",
      "     |          contour.\n",
      "     |  \n",
      "     |  overlaps(...)\n",
      "     |      overlaps(q)\n",
      "     |      Tests if the polygon overlaps the other polygon q. At first the bounding boxes \n",
      "     |      are tested for obvious cases and then an optional clipping is performed.\n",
      "     |      :Arguments:\n",
      "     |          - p: Polygon\n",
      "     |      :Returns:\n",
      "     |          bool\n",
      "     |  \n",
      "     |  read(...)\n",
      "     |      read(file)\n",
      "     |      Reads Polygon data from a file in gpc format.\n",
      "     |      :Arguments:\n",
      "     |          - file: readable file object or filename string\n",
      "     |          - optional holeflag: bool\n",
      "     |      :Returns:\n",
      "     |          None\n",
      "     |  \n",
      "     |  rotate(...)\n",
      "     |      rotate(a |, xc, yc)\n",
      "     |      Rotates the polygon by angle a around center point in ccw direction. If no \n",
      "     |      center is given the center point of the bounding box is used.\n",
      "     |      :Arguments:\n",
      "     |          - a: float\n",
      "     |          - optional xc: float\n",
      "     |          - optional yc: float\n",
      "     |      :Returns:\n",
      "     |          None\n",
      "     |  \n",
      "     |  sample(...)\n",
      "     |      sample(rng)\n",
      "     |      Returns a random sample somewhere within the polygon.\n",
      "     |      :Arguments:\n",
      "     |         - rng : Random number generator, a function or method taking 0 arguments,\n",
      "     |                 that returns a float [0.0..1.0] (e.g. python's random.random).\n",
      "     |      :Returns:\n",
      "     |          - random point in the polygon as a 2-tuple\n",
      "     |  \n",
      "     |  scale(...)\n",
      "     |      scale(xs, ys |, xc, yc)\n",
      "     |      Scales the polygon by multiplying with xs and ys around the center point. If\n",
      "     |      no center is given the center point of the bounding box is used, which will\n",
      "     |      not be changed by this operation.\n",
      "     |      :Arguments:\n",
      "     |          - xs: float\n",
      "     |          - ys: float\n",
      "     |          - optional xc: float\n",
      "     |          - optional yc: float\n",
      "     |      :Returns:\n",
      "     |          None\n",
      "     |  \n",
      "     |  shift(...)\n",
      "     |      shift(xs, ys)\n",
      "     |      Shifts the polygon by adding xs and ys.\n",
      "     |      :Arguments:\n",
      "     |          - xs: float\n",
      "     |          - ys float\n",
      "     |      :Returns:\n",
      "     |          None\n",
      "     |  \n",
      "     |  simplify(...)\n",
      "     |      simplify()\n",
      "     |      Try to simplify Polygon. It's possible to add overlapping contours or holes\n",
      "     |      which are outside of other contours. This may result in wrong calculations of \n",
      "     |      the area, center point, bounding box or other values. Call this method to \n",
      "     |      make sure the Polygon is in a good shape. The method first adds all contours \n",
      "     |      with a hole flag of 0, then substracts all holes and replaces  the original \n",
      "     |      Polygon with the result.\n",
      "     |      :Arguments:\n",
      "     |          None\n",
      "     |      :Returns:\n",
      "     |          None\n",
      "     |  \n",
      "     |  triStrip(...)\n",
      "     |      triStrip()\n",
      "     |      Returns a list of tristrips describing the Polygon area. A tristrip is a list of \n",
      "     |      triangles. The sum of all triangles fill the tristrip area. The triangles \n",
      "     |      are usually not in a good shape for FEM methods!\n",
      "     |      Each strip stores triangle data by an memory-efficient method. A strip is a \n",
      "     |      tuple containing points (2-tuples). The first three items of the tuple belong \n",
      "     |      to the first triangle. The second, third and fourth item are the corners of \n",
      "     |      the second triangle. Item number three, four and five are the corners of the \n",
      "     |      third triangle, (...you may guess the rest!). The number of triangles in a \n",
      "     |      strip is the number of points minus 2.\n",
      "     |      :Arguments:\n",
      "     |          None \n",
      "     |      :Returns:\n",
      "     |          list of tuples of 2-tuples\n",
      "     |  \n",
      "     |  warpToBox(...)\n",
      "     |      warpToBox(x0, x1, y0, y1)\n",
      "     |      Scales and shifts the polygon to fit into the bounding box specified by x0, \n",
      "     |      x1, y0 and y1. Make sure: x0 < x1 and y0 < y1!\n",
      "     |      :Arguments:\n",
      "     |          - x0: float\n",
      "     |          - x1: float\n",
      "     |          - y0: float\n",
      "     |          - y1: float\n",
      "     |      :Returns:\n",
      "     |          None\n",
      "     |  \n",
      "     |  write(...)\n",
      "     |      p.write(file)\n",
      "     |      ~~~~~~~~~~~~~\n",
      "     |      Writes Polygon data to a file in gpc format.\n",
      "     |      \n",
      "     |      :Arguments:\n",
      "     |          - file: writable file object or filename string\n",
      "     |          - optional holeflag: bool\n",
      "     |      :Returns:\n",
      "     |          None\n",
      "     |  \n",
      "     |  ----------------------------------------------------------------------\n",
      "     |  Data and other attributes defined here:\n",
      "     |  \n",
      "     |  __new__ = <built-in method __new__ of type object>\n",
      "     |      T.__new__(S, ...) -> a new object with type S, a subtype of T\n",
      "\n",
      "FUNCTIONS\n",
      "    getTolerance(...)\n",
      "        getTolerance()\n",
      "        Returns the tolerance value. See setTolerance() for details.\n",
      "        :Arguments:\n",
      "            None\n",
      "        :Returns:\n",
      "            float\n",
      "    \n",
      "    setDataStyle(...)\n",
      "        setDataStyle(s)\n",
      "        The data style defines the type of objects returned by some functions.\n",
      "        Point lists may be returned as tuples, lists or numpy.arrays (of compiled\n",
      "        with support for numpy).\n",
      "        :Arguments:\n",
      "            - s: one of STYLE_TUPLE, STYLE_LIST or STYLE_NUMPY\n",
      "        :Returns:\n",
      "            None\n",
      "    \n",
      "    setTolerance(...)\n",
      "        setTolerance(t)\n",
      "        The tolerance is used to test if points are coincident. Increasing\n",
      "        the value will be needed when point coordinates are not accurate\n",
      "        (maybe because of a lot of conversions). Defaults to DBL_EPSILON.\n",
      "        :Arguments:\n",
      "            - t: float\n",
      "        :Returns:\n",
      "            None\n",
      "\n",
      "DATA\n",
      "    STYLE_LIST = 1\n",
      "    STYLE_NUMPY = 2\n",
      "    STYLE_TUPLE = 0\n",
      "    __author__ = 'Author:   Joerg Raedler, Berlin. joerg@j-raedler... at: ...\n",
      "    __license__ = 'The Polygon package itself covered by the GNU LG...al U...\n",
      "    __version__ = '2.0.8'\n",
      "    withNumPy = True\n",
      "\n",
      "VERSION\n",
      "    2.0.8\n",
      "\n",
      "AUTHOR\n",
      "    Author:   Joerg Raedler, Berlin. joerg@j-raedler.de\n",
      "    Homepage: http://www.j-raedler.de/projects/polygon/\n",
      "    \n",
      "    Polygon is based on gpc, which was developed by Alan Murta, the gpc homepage\n",
      "    is at: http://www.cs.man.ac.uk/~toby/alan/software/\n",
      "\n",
      "\n"
     ]
    }
   ],
   "source": [
    "help(Polygon)"
   ]
  },
  {
   "cell_type": "code",
   "execution_count": 144,
   "metadata": {
    "collapsed": false
   },
   "outputs": [
    {
     "data": {
      "text/plain": [
       "[462, 662]"
      ]
     },
     "execution_count": 144,
     "metadata": {},
     "output_type": "execute_result"
    }
   ],
   "source": [
    "pixgrid = list()\n",
    "imax = len(M81_HI[1,:])/1\n",
    "jmax = len(M81_HI[:,1])/1\n",
    "for i in range(imax):\n",
    "    for j in range(jmax):\n",
    "        point = [i, j]\n",
    "        pixgrid.append(point)\n",
    "\n",
    "pixgrid[318056]"
   ]
  },
  {
   "cell_type": "code",
   "execution_count": 145,
   "metadata": {
    "collapsed": false
   },
   "outputs": [
    {
     "name": "stdout",
     "output_type": "stream",
     "text": [
      "[[2, 337], [1, 0], [3, 0], [5, 21]]\n",
      "[0, 0]\n"
     ]
    }
   ],
   "source": [
    "smallgrid = [pixgrid[1711], pixgrid[687], pixgrid[2061], pixgrid[3456]]\n",
    "\n",
    "print smallgrid\n",
    "\n",
    "small = Polygon.Polygon(smallgrid)"
   ]
  },
  {
   "cell_type": "code",
   "execution_count": 172,
   "metadata": {
    "collapsed": false
   },
   "outputs": [
    {
     "name": "stdout",
     "output_type": "stream",
     "text": [
      "0.0 3.52009\n"
     ]
    }
   ],
   "source": [
    "#good_pix = list()\n",
    "truth_table = list()\n",
    "for p in range(len(pixgrid)):\n",
    "    t = small.isInside(pixgrid[p][0],pixgrid[p][1])\n",
    "    #if (t == 1):\n",
    "        #good_pix.append(p)\n",
    "        #print M81_HI[pixgrid[p][0]][pixgrid[p][1]]\n",
    "    truth_table.append(t)\n",
    "\n",
    "in_small, = where(truth_table)\n",
    "#print in_small\n",
    "just_small = list()\n",
    "for i in in_small:\n",
    "     just_small.append(pixgrid[i])\n",
    "#print just_small\n",
    "\n",
    "HI_small = list()\n",
    "for c in range(len(just_small)):\n",
    "    HI_small.append(M81_HI[just_small[c][0]][just_small[c][1]])\n",
    "#print HI_small\n",
    "\n",
    "print median(HI_small), mean(HI_small)"
   ]
  },
  {
   "cell_type": "markdown",
   "metadata": {},
   "source": [
    "###BAD###"
   ]
  },
  {
   "cell_type": "code",
   "execution_count": 85,
   "metadata": {
    "collapsed": false
   },
   "outputs": [],
   "source": [
    "#plt.pcolor(ra_t, dec_t, M81_HI, cmap=matplotlib.cm.Blues)"
   ]
  },
  {
   "cell_type": "code",
   "execution_count": 43,
   "metadata": {
    "collapsed": false
   },
   "outputs": [
    {
     "ename": "KeyboardInterrupt",
     "evalue": "",
     "output_type": "error",
     "traceback": [
      "\u001b[1;31m---------------------------------------------------------------------------\u001b[0m",
      "\u001b[1;31mKeyboardInterrupt\u001b[0m                         Traceback (most recent call last)",
      "\u001b[1;32m<ipython-input-43-af88994accb3>\u001b[0m in \u001b[0;36m<module>\u001b[1;34m()\u001b[0m\n\u001b[0;32m      2\u001b[0m \u001b[0mp\u001b[0m \u001b[1;33m=\u001b[0m \u001b[1;36m0\u001b[0m\u001b[1;33m\u001b[0m\u001b[0m\n\u001b[0;32m      3\u001b[0m \u001b[1;32mwhile\u001b[0m \u001b[1;33m(\u001b[0m\u001b[0mc\u001b[0m \u001b[1;33m<\u001b[0m \u001b[0msize\u001b[0m\u001b[1;33m(\u001b[0m\u001b[0mpixlist\u001b[0m\u001b[1;33m)\u001b[0m\u001b[1;33m)\u001b[0m\u001b[1;33m:\u001b[0m\u001b[1;33m\u001b[0m\u001b[0m\n\u001b[1;32m----> 4\u001b[1;33m     \u001b[1;32mif\u001b[0m \u001b[1;33m(\u001b[0m\u001b[0mpixlist\u001b[0m\u001b[1;33m[\u001b[0m\u001b[0mp\u001b[0m\u001b[1;33m]\u001b[0m\u001b[1;33m[\u001b[0m\u001b[1;36m2\u001b[0m\u001b[1;33m]\u001b[0m \u001b[1;33m>\u001b[0m \u001b[1;36m0.0\u001b[0m\u001b[1;33m)\u001b[0m\u001b[1;33m:\u001b[0m\u001b[1;33m\u001b[0m\u001b[0m\n\u001b[0m\u001b[0;32m      5\u001b[0m         \u001b[0mplot\u001b[0m\u001b[1;33m(\u001b[0m\u001b[0mx\u001b[0m\u001b[1;33m=\u001b[0m\u001b[0mpixlist\u001b[0m\u001b[1;33m[\u001b[0m\u001b[0mp\u001b[0m\u001b[1;33m]\u001b[0m\u001b[1;33m[\u001b[0m\u001b[1;36m0\u001b[0m\u001b[1;33m]\u001b[0m\u001b[1;33m,\u001b[0m \u001b[0my\u001b[0m\u001b[1;33m=\u001b[0m\u001b[0mpixlist\u001b[0m\u001b[1;33m[\u001b[0m\u001b[0mp\u001b[0m\u001b[1;33m]\u001b[0m\u001b[1;33m[\u001b[0m\u001b[1;36m1\u001b[0m\u001b[1;33m]\u001b[0m\u001b[1;33m,\u001b[0m \u001b[0mfmt\u001b[0m\u001b[1;33m=\u001b[0m\u001b[1;34m'k.'\u001b[0m\u001b[1;33m)\u001b[0m\u001b[1;33m\u001b[0m\u001b[0m\n\u001b[0;32m      6\u001b[0m         \u001b[1;32mprint\u001b[0m \u001b[0mp\u001b[0m\u001b[1;33m,\u001b[0m\u001b[1;34m\"/ 397773\"\u001b[0m\u001b[1;33m\u001b[0m\u001b[0m\n",
      "\u001b[1;31mKeyboardInterrupt\u001b[0m: "
     ]
    }
   ],
   "source": [
    "c = 0\n",
    "p = 0\n",
    "while (c < size(pixlist)):\n",
    "    if (pixlist[p][2] > 0.0):\n",
    "        plot(x=pixlist[p][0], y=pixlist[p][1], fmt='k.')\n",
    "        print p,\"/ 397773\"\n",
    "    c = c + 3\n",
    "    p = p + 1\n",
    "\n",
    "#imax = len(M81_HI[:,1])/1\n",
    "#jmax = len(M81_HI[1,:])/1\n",
    "#for i in range(imax):\n",
    "#    for j in range(jmax):\n",
    "#        w_dec, w_ra, w_freq = w.all_pix2world(1., i, j, 0)\n",
    "        #print(w_ra, w_dec, w_freq)\n",
    "        #print \"val at ra:\", w_ra, \", dec:\", w_dec, \"is\", M81_HI[i, j]"
   ]
  },
  {
   "cell_type": "code",
   "execution_count": 35,
   "metadata": {
    "collapsed": false
   },
   "outputs": [
    {
     "name": "stdout",
     "output_type": "stream",
     "text": [
      "[[ 0.9551404   0.90540113  0.12598746  0.27353855]\n",
      " [ 0.40583713  0.36585957  0.47010191  0.32746503]\n",
      " [ 0.08546796  0.45000069  0.88734638  0.00962889]\n",
      " [ 0.70557546  0.75400904  0.84235046  0.30258724]]\n"
     ]
    },
    {
     "data": {
      "image/png": "[encoded data removed]",
      "text/plain": [
       "<matplotlib.figure.Figure at 0x1befb8d0>"
      ]
     },
     "metadata": {},
     "output_type": "display_data"
    }
   ],
   "source": [
    "data = numpy.random.rand(4,4)\n",
    "print data\n",
    "#print pixlist[357]\n",
    "heatmap = plt.pcolor(data, cmap=matplotlib.cm.Blues)"
   ]
  },
  {
   "cell_type": "code",
   "execution_count": 37,
   "metadata": {
    "collapsed": false
   },
   "outputs": [
    {
     "name": "stdout",
     "output_type": "stream",
     "text": [
      "Help on function pcolor in module matplotlib.pyplot:\n",
      "\n",
      "pcolor(*args, **kwargs)\n",
      "    Create a pseudocolor plot of a 2-D array.\n",
      "    \n",
      "    .. note::\n",
      "    \n",
      "        pcolor can be very slow for large arrays; consider\n",
      "        using the similar but much faster\n",
      "        :func:`~matplotlib.pyplot.pcolormesh` instead.\n",
      "    \n",
      "    Call signatures::\n",
      "    \n",
      "      pcolor(C, **kwargs)\n",
      "      pcolor(X, Y, C, **kwargs)\n",
      "    \n",
      "    *C* is the array of color values.\n",
      "    \n",
      "    *X* and *Y*, if given, specify the (*x*, *y*) coordinates of\n",
      "    the colored quadrilaterals; the quadrilateral for C[i,j] has\n",
      "    corners at::\n",
      "    \n",
      "      (X[i,   j],   Y[i,   j]),\n",
      "      (X[i,   j+1], Y[i,   j+1]),\n",
      "      (X[i+1, j],   Y[i+1, j]),\n",
      "      (X[i+1, j+1], Y[i+1, j+1]).\n",
      "    \n",
      "    Ideally the dimensions of *X* and *Y* should be one greater\n",
      "    than those of *C*; if the dimensions are the same, then the\n",
      "    last row and column of *C* will be ignored.\n",
      "    \n",
      "    Note that the the column index corresponds to the\n",
      "    *x*-coordinate, and the row index corresponds to *y*; for\n",
      "    details, see the :ref:`Grid Orientation\n",
      "    <axes-pcolor-grid-orientation>` section below.\n",
      "    \n",
      "    If either or both of *X* and *Y* are 1-D arrays or column vectors,\n",
      "    they will be expanded as needed into the appropriate 2-D arrays,\n",
      "    making a rectangular grid.\n",
      "    \n",
      "    *X*, *Y* and *C* may be masked arrays.  If either C[i, j], or one\n",
      "    of the vertices surrounding C[i,j] (*X* or *Y* at [i, j], [i+1, j],\n",
      "    [i, j+1],[i+1, j+1]) is masked, nothing is plotted.\n",
      "    \n",
      "    Keyword arguments:\n",
      "    \n",
      "      *cmap*: [ *None* | Colormap ]\n",
      "        A :class:`matplotlib.colors.Colormap` instance. If *None*, use\n",
      "        rc settings.\n",
      "    \n",
      "      *norm*: [ *None* | Normalize ]\n",
      "        An :class:`matplotlib.colors.Normalize` instance is used\n",
      "        to scale luminance data to 0,1. If *None*, defaults to\n",
      "        :func:`normalize`.\n",
      "    \n",
      "      *vmin*/*vmax*: [ *None* | scalar ]\n",
      "        *vmin* and *vmax* are used in conjunction with *norm* to\n",
      "        normalize luminance data.  If either is *None*, it\n",
      "        is autoscaled to the respective min or max\n",
      "        of the color array *C*.  If not *None*, *vmin* or\n",
      "        *vmax* passed in here override any pre-existing values\n",
      "        supplied in the *norm* instance.\n",
      "    \n",
      "      *shading*: [ 'flat' | 'faceted' ]\n",
      "        If 'faceted', a black grid is drawn around each rectangle; if\n",
      "        'flat', edges are not drawn. Default is 'flat', contrary to\n",
      "        MATLAB.\n",
      "    \n",
      "        This kwarg is deprecated; please use 'edgecolors' instead:\n",
      "          * shading='flat' -- edgecolors='none'\n",
      "          * shading='faceted  -- edgecolors='k'\n",
      "    \n",
      "      *edgecolors*: [ *None* | ``'none'`` | color | color sequence]\n",
      "        If *None*, the rc setting is used by default.\n",
      "    \n",
      "        If ``'none'``, edges will not be visible.\n",
      "    \n",
      "        An mpl color or sequence of colors will set the edge color\n",
      "    \n",
      "      *alpha*: ``0 <= scalar <= 1``   or *None*\n",
      "        the alpha blending value\n",
      "    \n",
      "      *snap*: bool\n",
      "        Whether to snap the mesh to pixel boundaries.\n",
      "    \n",
      "    Return value is a :class:`matplotlib.collections.Collection`\n",
      "    instance.\n",
      "    \n",
      "    .. _axes-pcolor-grid-orientation:\n",
      "    \n",
      "    The grid orientation follows the MATLAB convention: an\n",
      "    array *C* with shape (*nrows*, *ncolumns*) is plotted with\n",
      "    the column number as *X* and the row number as *Y*, increasing\n",
      "    up; hence it is plotted the way the array would be printed,\n",
      "    except that the *Y* axis is reversed.  That is, *C* is taken\n",
      "    as *C*(*y*, *x*).\n",
      "    \n",
      "    Similarly for :func:`meshgrid`::\n",
      "    \n",
      "      x = np.arange(5)\n",
      "      y = np.arange(3)\n",
      "      X, Y = np.meshgrid(x, y)\n",
      "    \n",
      "    is equivalent to::\n",
      "    \n",
      "      X = array([[0, 1, 2, 3, 4],\n",
      "                 [0, 1, 2, 3, 4],\n",
      "                 [0, 1, 2, 3, 4]])\n",
      "    \n",
      "      Y = array([[0, 0, 0, 0, 0],\n",
      "                 [1, 1, 1, 1, 1],\n",
      "                 [2, 2, 2, 2, 2]])\n",
      "    \n",
      "    so if you have::\n",
      "    \n",
      "      C = rand(len(x), len(y))\n",
      "    \n",
      "    then you need to transpose C::\n",
      "    \n",
      "      pcolor(X, Y, C.T)\n",
      "    \n",
      "    or::\n",
      "    \n",
      "      pcolor(C.T)\n",
      "    \n",
      "    MATLAB :func:`pcolor` always discards the last row and column\n",
      "    of *C*, but matplotlib displays the last row and column if *X* and\n",
      "    *Y* are not specified, or if *X* and *Y* have one more row and\n",
      "    column than *C*.\n",
      "    \n",
      "    kwargs can be used to control the\n",
      "    :class:`~matplotlib.collections.PolyCollection` properties:\n",
      "    \n",
      "      agg_filter: unknown\n",
      "      alpha: float or None         \n",
      "      animated: [True | False]         \n",
      "      antialiased or antialiaseds: Boolean or sequence of booleans         \n",
      "      array: unknown\n",
      "      axes: an :class:`~matplotlib.axes.Axes` instance         \n",
      "      clim: a length 2 sequence of floats         \n",
      "      clip_box: a :class:`matplotlib.transforms.Bbox` instance         \n",
      "      clip_on: [True | False]         \n",
      "      clip_path: [ (:class:`~matplotlib.path.Path`,         :class:`~matplotlib.transforms.Transform`) |         :class:`~matplotlib.patches.Patch` | None ]         \n",
      "      cmap: a colormap or registered colormap name         \n",
      "      color: matplotlib color arg or sequence of rgba tuples\n",
      "      contains: a callable function         \n",
      "      edgecolor or edgecolors: matplotlib color arg or sequence of rgba tuples         \n",
      "      facecolor or facecolors: matplotlib color arg or sequence of rgba tuples         \n",
      "      figure: a :class:`matplotlib.figure.Figure` instance         \n",
      "      gid: an id string         \n",
      "      hatch: [ '/' | '\\\\' | '|' | '-' | '+' | 'x' | 'o' | 'O' | '.' | '*' ]         \n",
      "      label: string or anything printable with '%s' conversion.         \n",
      "      linestyle or linestyles or dashes: ['solid' | 'dashed', 'dashdot', 'dotted' |         (offset, on-off-dash-seq) ]         \n",
      "      linewidth or lw or linewidths: float or sequence of floats         \n",
      "      lod: [True | False]         \n",
      "      norm: unknown\n",
      "      offset_position: unknown\n",
      "      offsets: float or sequence of floats         \n",
      "      path_effects: unknown\n",
      "      picker: [None|float|boolean|callable]         \n",
      "      pickradius: unknown\n",
      "      rasterized: [True | False | None]         \n",
      "      sketch_params: unknown\n",
      "      snap: unknown\n",
      "      transform: :class:`~matplotlib.transforms.Transform` instance         \n",
      "      url: a url string         \n",
      "      urls: unknown\n",
      "      visible: [True | False]         \n",
      "      zorder: any number         \n",
      "    \n",
      "    .. note::\n",
      "    \n",
      "        The default *antialiaseds* is False if the default\n",
      "        *edgecolors*=\"none\" is used.  This eliminates artificial lines\n",
      "        at patch boundaries, and works regardless of the value of\n",
      "        alpha.  If *edgecolors* is not \"none\", then the default\n",
      "        *antialiaseds* is taken from\n",
      "        rcParams['patch.antialiased'], which defaults to *True*.\n",
      "        Stroking the edges may be preferred if *alpha* is 1, but\n",
      "        will cause artifacts otherwise.\n",
      "    \n",
      "    .. seealso::\n",
      "    \n",
      "        :func:`~matplotlib.pyplot.pcolormesh`\n",
      "            For an explanation of the differences between\n",
      "            pcolor and pcolormesh.\n",
      "    \n",
      "    \n",
      "    \n",
      "    Additional kwargs: hold = [True|False] overrides default hold state\n",
      "\n"
     ]
    }
   ],
   "source": [
    "help(pcolor)"
   ]
  }
 ],
 "metadata": {
  "kernelspec": {
   "display_name": "Python 2",
   "language": "python",
   "name": "python2"
  },
  "language_info": {
   "codemirror_mode": {
    "name": "ipython",
    "version": 2
   },
   "file_extension": ".py",
   "mimetype": "text/x-python",
   "name": "python",
   "nbconvert_exporter": "python",
   "pygments_lexer": "ipython2",
   "version": "2.7.10"
  }
 },
 "nbformat": 4,
 "nbformat_minor": 0
}
